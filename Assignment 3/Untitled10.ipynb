{
  "nbformat": 4,
  "nbformat_minor": 0,
  "metadata": {
    "colab": {
      "name": "Untitled10.ipynb",
      "provenance": []
    },
    "kernelspec": {
      "name": "python3",
      "display_name": "Python 3"
    },
    "accelerator": "GPU"
  },
  "cells": [
    {
      "cell_type": "code",
      "metadata": {
        "id": "H5jSzPR-YVd0",
        "colab_type": "code",
        "colab": {}
      },
      "source": [
        "import pandas as pd\n",
        "data = pd.read_csv('train_set.csv',header=None)\n",
        "x_train = data.iloc[:,0:25]\n",
        "y_train = data.iloc[:,25]\n",
        "from sklearn.preprocessing import StandardScaler\n",
        "scaler = StandardScaler().fit(x_train)\n",
        "train_scaled = scaler.transform(x_train)"
      ],
      "execution_count": 49,
      "outputs": []
    },
    {
      "cell_type": "code",
      "metadata": {
        "id": "N6LTdNOSRRox",
        "colab_type": "code",
        "colab": {
          "base_uri": "https://localhost:8080/",
          "height": 208
        },
        "outputId": "698a196a-b9c8-4b9a-c9ee-eb109b53f0fa"
      },
      "source": [
        "from keras.layers import Dense,Embedding,LSTM,GRU\n",
        "from keras.layers.embeddings import Embedding\n",
        "from keras.models import Sequential\n",
        "import numpy as np\n",
        "\n",
        "\n",
        "from sklearn.model_selection import StratifiedKFold\n",
        "import tensorflow as tf\n",
        "\n",
        "kfold = StratifiedKFold(n_splits=10,shuffle = True,random_state = 7)\n",
        "cvscores=[]\n",
        "for train,test in kfold.split(train_scaled,y_train):\n",
        "  model = Sequential()\n",
        "  model.add(Dense(input_dim=25,units=20,activation='sigmoid'))\n",
        "  model.add(Dense(15,activation='sigmoid'))\n",
        "  model.add(Dense(10,activation='softmax'))\n",
        "  model.compile(optimizer=tf.keras.optimizers.Adam(0.01),loss='sparse_categorical_crossentropy',metrics=['accuracy'])\n",
        "  model.fit(train_scaled[train],y_train.to_numpy()[train],batch_size=batch_size,epochs=50,verbose  =0)\n",
        "  scores = model.evaluate(train_scaled[test],y_train[test],verbose = 0)\n",
        "  print(\"%s: %.2f%%\" % (model.metrics_names[1], scores[1]*100))\n",
        "  cvscores.append(scores[1] * 100)\n",
        "print(\"%.2f%% (+/- %.2f%%)\" % (np.mean(cvscores), np.std(cvscores)))\n",
        "  "
      ],
      "execution_count": 79,
      "outputs": [
        {
          "output_type": "stream",
          "text": [
            "accuracy: 92.50%\n",
            "accuracy: 92.50%\n",
            "accuracy: 92.70%\n",
            "accuracy: 91.70%\n",
            "accuracy: 91.70%\n",
            "accuracy: 89.90%\n",
            "accuracy: 91.70%\n",
            "accuracy: 90.70%\n",
            "accuracy: 91.80%\n",
            "accuracy: 91.70%\n",
            "91.69% (+/- 0.81%)\n"
          ],
          "name": "stdout"
        }
      ]
    },
    {
      "cell_type": "code",
      "metadata": {
        "id": "FHP1ErfcUSnd",
        "colab_type": "code",
        "colab": {
          "base_uri": "https://localhost:8080/",
          "height": 35
        },
        "outputId": "1c3847d1-e7b0-42ec-dafa-e238100c6e50"
      },
      "source": [
        "data2 = pd.read_csv('test_set.csv',header=None)\n",
        "predict=model.predict_classes(data2.to_numpy())\n",
        "predict"
      ],
      "execution_count": 87,
      "outputs": [
        {
          "output_type": "execute_result",
          "data": {
            "text/plain": [
              "array([3, 7, 2, ..., 7, 2, 3])"
            ]
          },
          "metadata": {
            "tags": []
          },
          "execution_count": 87
        }
      ]
    },
    {
      "cell_type": "code",
      "metadata": {
        "id": "icyDkFZ5hLV5",
        "colab_type": "code",
        "colab": {}
      },
      "source": [
        "import csv\n",
        "fields = ['id','class'] \n",
        "filename = 'result.csv'\n",
        "f = open (filename,\"w\",newline=\"\")\n",
        "writer = csv.writer(f)\n",
        "writer.writerow(fields)\n",
        "for i,item  in enumerate(predict):\n",
        "  tup=(i,item)\n",
        "  writer.writerow(tup)\n",
        "\n",
        "f.close()"
      ],
      "execution_count": 88,
      "outputs": []
    },
    {
      "cell_type": "code",
      "metadata": {
        "id": "Dr5vKaCjW2E3",
        "colab_type": "code",
        "colab": {}
      },
      "source": [
        ""
      ],
      "execution_count": null,
      "outputs": []
    }
  ]
}